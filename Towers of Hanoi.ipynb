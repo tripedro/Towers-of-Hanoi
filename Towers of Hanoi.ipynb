{
 "cells": [
  {
   "cell_type": "markdown",
   "id": "dbb1c406",
   "metadata": {},
   "source": [
    "<h1><left>Towers of Hanoi</left></h1\""
   ]
  },
  {
   "attachments": {
    "towers_of_hanoi_example.png": {
     "image/png": "[encoded data removed]"
    }
   },
   "cell_type": "markdown",
   "id": "d749e5f1",
   "metadata": {},
   "source": [
    "![](attachment:towers_of_hanoi_example.png)"
   ]
  },
  {
   "cell_type": "code",
   "execution_count": 4,
   "id": "ff05f436",
   "metadata": {},
   "outputs": [],
   "source": [
    "def move(f,t):\n",
    "    print(\"Move disc from {} to {}!\".format(f,t))"
   ]
  },
  {
   "cell_type": "code",
   "execution_count": 5,
   "id": "d8dd7e91",
   "metadata": {},
   "outputs": [
    {
     "name": "stdout",
     "output_type": "stream",
     "text": [
      "Move disc from A to C!\n"
     ]
    }
   ],
   "source": [
    "move(\"A\",\"C\")"
   ]
  },
  {
   "cell_type": "code",
   "execution_count": 6,
   "id": "8190ece5",
   "metadata": {},
   "outputs": [],
   "source": [
    "def moveVia(f,v,t):\n",
    "    move(f,v)\n",
    "    move(v,t)"
   ]
  },
  {
   "cell_type": "code",
   "execution_count": 7,
   "id": "830719fb",
   "metadata": {},
   "outputs": [
    {
     "name": "stdout",
     "output_type": "stream",
     "text": [
      "Move disc from A to B!\n",
      "Move disc from B to C!\n"
     ]
    }
   ],
   "source": [
    "moveVia(\"A\",\"B\",\"C\")"
   ]
  },
  {
   "cell_type": "code",
   "execution_count": 13,
   "id": "5e04e729",
   "metadata": {},
   "outputs": [],
   "source": [
    "def hanoi(numOfDisks, fromPos, helperPos, targetPos):\n",
    "    if numOfDisks==0:\n",
    "        pass\n",
    "    else:\n",
    "        hanoi(numOfDisks-1, fromPos, targetPos, helperPos)\n",
    "        move(fromPos, targetPos)\n",
    "        hanoi(numOfDisks-1, helperPos, fromPos, targetPos)"
   ]
  },
  {
   "cell_type": "code",
   "execution_count": 18,
   "id": "e11c2e4d",
   "metadata": {},
   "outputs": [
    {
     "name": "stdout",
     "output_type": "stream",
     "text": [
      "Move disc from A to B!\n",
      "Move disc from A to C!\n",
      "Move disc from B to C!\n"
     ]
    }
   ],
   "source": [
    "hanoi(2,\"A\",\"B\",\"C\")"
   ]
  },
  {
   "cell_type": "code",
   "execution_count": 31,
   "id": "ac909ae3",
   "metadata": {},
   "outputs": [],
   "source": [
    "pegs_dict = {\"peg1\": [0, 1, 2],\n",
    "             \"peg2\": [0, 0, 3],\n",
    "             \"peg3\": [0, 0, 0]}"
   ]
  },
  {
   "cell_type": "code",
   "execution_count": 34,
   "id": "ab90c42e",
   "metadata": {},
   "outputs": [],
   "source": [
    "def peg_to_strings(peg_list, dct={0: \"   |   \",\n",
    "                                  1: \"  -|-  \",\n",
    "                                  2: \" --|-- \",\n",
    "                                  3: \"---|---\"}):\n",
    "    return [dct[x] for x in peg_list] + [\"=======\"]\n",
    "\n",
    "def interleave(lists, lst):\n",
    "    # interleave([1, 2, 3], 'a') => [1, 'a', 2, 'a', 3]\n",
    "    res = [(l, lst) for l in lists]\n",
    "    return [y for x in res for y in x][:-1]\n",
    "\n",
    "\n",
    "def transpose(lists):\n",
    "    # transpose([[1, 2, 3], ['a', 'b', 'c']]) => [[1, 'a'], [2, 'b'], [3, 'c']]\n",
    "    return [[l[i] for l in lists] for i in range(len(lists[0]))]\n",
    "\n",
    "def pegs_to_strings(pegs_dct, inbetween=[\"    \", \"    \", \"    \", \"====\"]):\n",
    "    lists = [peg_to_strings(pegs_dct[f\"peg{x}\"]) for x in [1,2,3]]\n",
    "    return [''.join(strings) for strings in transpose(interleave(lists, inbetween))]"
   ]
  },
  {
   "cell_type": "code",
   "execution_count": 35,
   "id": "6ad875ba",
   "metadata": {},
   "outputs": [
    {
     "name": "stdout",
     "output_type": "stream",
     "text": [
      "   |          |          |   \n",
      "  -|-         |          |   \n",
      " --|--     ---|---       |   \n",
      "=============================\n"
     ]
    }
   ],
   "source": [
    "print('\\n'.join(pegs_to_strings(pegs_dict)))"
   ]
  },
  {
   "cell_type": "code",
   "execution_count": null,
   "id": "ce84510a",
   "metadata": {},
   "outputs": [],
   "source": []
  }
 ],
 "metadata": {
  "kernelspec": {
   "display_name": "Python 3 (ipykernel)",
   "language": "python",
   "name": "python3"
  },
  "language_info": {
   "codemirror_mode": {
    "name": "ipython",
    "version": 3
   },
   "file_extension": ".py",
   "mimetype": "text/x-python",
   "name": "python",
   "nbconvert_exporter": "python",
   "pygments_lexer": "ipython3",
   "version": "3.8.13"
  }
 },
 "nbformat": 4,
 "nbformat_minor": 5
}
